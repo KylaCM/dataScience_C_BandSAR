{
 "cells": [
  {
   "cell_type": "code",
   "execution_count": 1,
   "id": "1fc35572-4ce8-4d9a-be2a-161372a7e083",
   "metadata": {},
   "outputs": [],
   "source": [
    "#import packages\n",
    "import rasterio\n",
    "import numpy as np\n",
    "import os"
   ]
  },
  {
   "cell_type": "code",
   "execution_count": 2,
   "id": "2f2ae1ba-25b4-400f-9fff-25f43d5d1d80",
   "metadata": {},
   "outputs": [],
   "source": [
    "def read_raster(file_path):\n",
    "    \"\"\"Reads raster data, ensures numeric data, and handles NoData values.\"\"\"\n",
    "    with rasterio.open(file_path) as src:\n",
    "        raster_data = src.read(1)  # Read the first band\n",
    "        affine = src.transform\n",
    "        nodata_value = src.nodata  # Get the NoData value\n",
    "\n",
    "    # Ensure data is numeric\n",
    "    if not np.issubdtype(raster_data.dtype, np.number):\n",
    "        raise TypeError(f\"Unsupported raster data type: {raster_data.dtype}\")\n",
    "\n",
    "    # Mask invalid values (NaN, inf, and optionally NoData)\n",
    "    valid_mask = np.isfinite(raster_data)\n",
    "    \n",
    "    if nodata_value is not None:\n",
    "        valid_mask &= raster_data != nodata_value  # Mask out NoData values\n",
    "\n",
    "    if not np.any(valid_mask):\n",
    "        raise ValueError(\"Raster contains only invalid or missing values.\")\n",
    "\n",
    "    # Extract valid data and indices\n",
    "    valid_data = raster_data[valid_mask]\n",
    "    valid_indices = np.argwhere(valid_mask)\n",
    "\n",
    "    return valid_data, valid_indices, affine\n",
    "\n",
    "def create_weights(valid_indices, affine, k=4):\n",
    "    \"\"\"Creates spatial weights dictionary using k-nearest neighbors.\"\"\"\n",
    "    coords = [tuple(affine * (col, row)) for row, col in valid_indices]\n",
    "    weights = {}\n",
    "    for i, coord in enumerate(coords):\n",
    "        distances = np.sqrt(np.sum((np.array(coords) - coord) ** 2, axis=1))\n",
    "        nearest_neighbors = np.argsort(distances)[1:k+1]  # Skip self (distance = 0)\n",
    "        weights[i] = nearest_neighbors\n",
    "    return weights\n",
    "\n",
    "def calculate_morans_i(data, weights):\n",
    "    \"\"\"Calculates Moran's I manually.\"\"\"\n",
    "    n = len(data)\n",
    "    mean_value = np.mean(data)\n",
    "    deviations = data - mean_value\n",
    "\n",
    "    # Numerator: Spatially weighted covariance\n",
    "    num = 0\n",
    "    for i, neighbors in weights.items():\n",
    "        for neighbor in neighbors:\n",
    "            num += deviations[i] * deviations[neighbor]\n",
    "\n",
    "    # Denominator: Variance\n",
    "    denom = np.sum(deviations ** 2)\n",
    "\n",
    "    # Weight normalization factor (sum of weights)\n",
    "    w_sum = sum(len(neighbors) for neighbors in weights.values())\n",
    "\n",
    "    # Moran's I formula\n",
    "    morans_i = (n / w_sum) * (num / denom)\n",
    "    return morans_i\n",
    "\n",
    "def process_years(resolution, years, file_template, k=4):\n",
    "    \"\"\"Iterates through years and calculates Moran's I for a given resolution.\"\"\"\n",
    "    results = {}\n",
    "    for year in years:\n",
    "        file_path = file_template.format(resolution=resolution, year=year)\n",
    "        try:\n",
    "            print(f\"Processing {file_path}...\")\n",
    "            data, indices, affine = read_raster(file_path)\n",
    "            weights = create_weights(indices, affine, k=k)\n",
    "            moran_i = calculate_morans_i(data, weights)\n",
    "            results[year] = moran_i\n",
    "        except FileNotFoundError:\n",
    "            print(f\"File not found: {file_path}\")\n",
    "            continue\n",
    "    return results\n"
   ]
  },
  {
   "cell_type": "code",
   "execution_count": 3,
   "id": "9a707413-3377-46f1-9877-bf2fcb12aaa2",
   "metadata": {},
   "outputs": [
    {
     "name": "stdout",
     "output_type": "stream",
     "text": [
      "Data sample: [134.  65.  86.  86. 106. 113. 113.  74.  89.  58.]\n",
      "Number of valid pixels: 744083\n"
     ]
    }
   ],
   "source": [
    "# test read_raster\n",
    "file_path = \"vv_outputs/2020_vv_10.tif\"\n",
    "data, indices, affine = read_raster(file_path)\n",
    "print(f\"Data sample: {data[:10]}\")\n",
    "print(f\"Number of valid pixels: {len(data)}\")\n"
   ]
  },
  {
   "cell_type": "code",
   "execution_count": null,
   "id": "73f88633-9638-48c8-a163-0a94239554ea",
   "metadata": {},
   "outputs": [],
   "source": [
    "# test create_weights\n",
    "weights = create_weights(indices, affine, k=4)\n",
    "print(f\"Sample weights for first 5 pixels: {list(weights.items())[:5]}\")"
   ]
  },
  {
   "cell_type": "code",
   "execution_count": 23,
   "id": "c7d046a4-ad7c-483c-9214-1cee5532a561",
   "metadata": {},
   "outputs": [],
   "source": [
    "# parameters\n",
    "years = range(2015, 2025)  # 2015–2024\n",
    "file_template = \"vv_outputs/{year}_vv_{resolution}.tif\"\n",
    "resolutions = [\"10\", \"5\"]\n"
   ]
  },
  {
   "cell_type": "code",
   "execution_count": 24,
   "id": "cf87d958-f94b-48f5-a614-4ca3b2ba1f11",
   "metadata": {},
   "outputs": [
    {
     "name": "stdout",
     "output_type": "stream",
     "text": [
      "Processing resolution: 10\n",
      "Processing vv_outputs/2015_vv_10.tif...\n"
     ]
    },
    {
     "ename": "KeyboardInterrupt",
     "evalue": "",
     "output_type": "error",
     "traceback": [
      "\u001b[0;31m---------------------------------------------------------------------------\u001b[0m",
      "\u001b[0;31mKeyboardInterrupt\u001b[0m                         Traceback (most recent call last)",
      "Cell \u001b[0;32mIn[24], line 4\u001b[0m\n\u001b[1;32m      2\u001b[0m \u001b[38;5;28;01mfor\u001b[39;00m resolution \u001b[38;5;129;01min\u001b[39;00m resolutions:\n\u001b[1;32m      3\u001b[0m     \u001b[38;5;28mprint\u001b[39m(\u001b[38;5;124mf\u001b[39m\u001b[38;5;124m\"\u001b[39m\u001b[38;5;124mProcessing resolution: \u001b[39m\u001b[38;5;132;01m{\u001b[39;00mresolution\u001b[38;5;132;01m}\u001b[39;00m\u001b[38;5;124m\"\u001b[39m)\n\u001b[0;32m----> 4\u001b[0m     all_results[resolution] \u001b[38;5;241m=\u001b[39m \u001b[43mprocess_years\u001b[49m\u001b[43m(\u001b[49m\u001b[43mresolution\u001b[49m\u001b[43m,\u001b[49m\u001b[43m \u001b[49m\u001b[43myears\u001b[49m\u001b[43m,\u001b[49m\u001b[43m \u001b[49m\u001b[43mfile_template\u001b[49m\u001b[43m)\u001b[49m\n\u001b[1;32m      6\u001b[0m \u001b[38;5;66;03m# Print results\u001b[39;00m\n\u001b[1;32m      7\u001b[0m \u001b[38;5;28;01mfor\u001b[39;00m resolution, results \u001b[38;5;129;01min\u001b[39;00m all_results\u001b[38;5;241m.\u001b[39mitems():\n",
      "Cell \u001b[0;32mIn[22], line 67\u001b[0m, in \u001b[0;36mprocess_years\u001b[0;34m(resolution, years, file_template, k)\u001b[0m\n\u001b[1;32m     65\u001b[0m \u001b[38;5;28mprint\u001b[39m(\u001b[38;5;124mf\u001b[39m\u001b[38;5;124m\"\u001b[39m\u001b[38;5;124mProcessing \u001b[39m\u001b[38;5;132;01m{\u001b[39;00mfile_path\u001b[38;5;132;01m}\u001b[39;00m\u001b[38;5;124m...\u001b[39m\u001b[38;5;124m\"\u001b[39m)\n\u001b[1;32m     66\u001b[0m data, indices, affine \u001b[38;5;241m=\u001b[39m read_raster(file_path)\n\u001b[0;32m---> 67\u001b[0m weights \u001b[38;5;241m=\u001b[39m \u001b[43mcreate_weights\u001b[49m\u001b[43m(\u001b[49m\u001b[43mindices\u001b[49m\u001b[43m,\u001b[49m\u001b[43m \u001b[49m\u001b[43maffine\u001b[49m\u001b[43m,\u001b[49m\u001b[43m \u001b[49m\u001b[43mk\u001b[49m\u001b[38;5;241;43m=\u001b[39;49m\u001b[43mk\u001b[49m\u001b[43m)\u001b[49m\n\u001b[1;32m     68\u001b[0m moran_i \u001b[38;5;241m=\u001b[39m calculate_morans_i(data, weights)\n\u001b[1;32m     69\u001b[0m results[year] \u001b[38;5;241m=\u001b[39m moran_i\n",
      "Cell \u001b[0;32mIn[22], line 32\u001b[0m, in \u001b[0;36mcreate_weights\u001b[0;34m(valid_indices, affine, k)\u001b[0m\n\u001b[1;32m     30\u001b[0m weights \u001b[38;5;241m=\u001b[39m {}\n\u001b[1;32m     31\u001b[0m \u001b[38;5;28;01mfor\u001b[39;00m i, coord \u001b[38;5;129;01min\u001b[39;00m \u001b[38;5;28menumerate\u001b[39m(coords):\n\u001b[0;32m---> 32\u001b[0m     distances \u001b[38;5;241m=\u001b[39m np\u001b[38;5;241m.\u001b[39msqrt(np\u001b[38;5;241m.\u001b[39msum((\u001b[43mnp\u001b[49m\u001b[38;5;241;43m.\u001b[39;49m\u001b[43marray\u001b[49m\u001b[43m(\u001b[49m\u001b[43mcoords\u001b[49m\u001b[43m)\u001b[49m \u001b[38;5;241m-\u001b[39m coord) \u001b[38;5;241m*\u001b[39m\u001b[38;5;241m*\u001b[39m \u001b[38;5;241m2\u001b[39m, axis\u001b[38;5;241m=\u001b[39m\u001b[38;5;241m1\u001b[39m))\n\u001b[1;32m     33\u001b[0m     nearest_neighbors \u001b[38;5;241m=\u001b[39m np\u001b[38;5;241m.\u001b[39margsort(distances)[\u001b[38;5;241m1\u001b[39m:k\u001b[38;5;241m+\u001b[39m\u001b[38;5;241m1\u001b[39m]  \u001b[38;5;66;03m# Skip self (distance = 0)\u001b[39;00m\n\u001b[1;32m     34\u001b[0m     weights[i] \u001b[38;5;241m=\u001b[39m nearest_neighbors\n",
      "\u001b[0;31mKeyboardInterrupt\u001b[0m: "
     ]
    }
   ],
   "source": [
    "all_results = {}\n",
    "for resolution in resolutions:\n",
    "    print(f\"Processing resolution: {resolution}\")\n",
    "    all_results[resolution] = process_years(resolution, years, file_template)\n",
    "\n",
    "# Print results\n",
    "for resolution, results in all_results.items():\n",
    "    print(f\"\\nResults for {resolution} resolution:\")\n",
    "    for year, moran_i in results.items():\n",
    "        print(f\"Year {year}: Moran's I = {moran_i:.4f}\")\n"
   ]
  }
 ],
 "metadata": {
  "kernelspec": {
   "display_name": "Python 3 (ipykernel)",
   "language": "python",
   "name": "python3"
  },
  "language_info": {
   "codemirror_mode": {
    "name": "ipython",
    "version": 3
   },
   "file_extension": ".py",
   "mimetype": "text/x-python",
   "name": "python",
   "nbconvert_exporter": "python",
   "pygments_lexer": "ipython3",
   "version": "3.9.15"
  }
 },
 "nbformat": 4,
 "nbformat_minor": 5
}
